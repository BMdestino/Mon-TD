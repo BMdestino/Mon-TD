{
 "cells": [
  {
   "cell_type": "markdown",
   "id": "cef289d7-b980-47d1-b5d2-4483b9c317fb",
   "metadata": {},
   "source": [
    "# III. DATASET DE Real_Estate"
   ]
  },
  {
   "cell_type": "code",
   "execution_count": 159,
   "id": "68e14662-d6e9-47d7-bff4-26d7e959795c",
   "metadata": {},
   "outputs": [],
   "source": [
    "import numpy as np\n",
    "import pandas as pd\n",
    "import matplotlib.pyplot as plt\n",
    "import seaborn as sns\n",
    "from sklearn.linear_model import LinearRegression\n",
    "from sklearn.ensemble import RandomForestRegressor\n",
    "from sklearn.tree import DecisionTreeRegressor\n",
    "from sklearn.model_selection import train_test_split\n",
    "from sklearn.metrics import mean_squared_error, r2_score"
   ]
  },
  {
   "cell_type": "markdown",
   "id": "95dac9bf-3413-49ac-a5d2-426eda2dd6b6",
   "metadata": {},
   "source": [
    "# III.1. Chargement du fichier de données"
   ]
  },
  {
   "cell_type": "code",
   "execution_count": 160,
   "id": "f40aae7e-e04c-471f-a373-6f70432cbd9d",
   "metadata": {},
   "outputs": [],
   "source": [
    "data = pd.read_csv(\"Real-estate.csv\")"
   ]
  },
  {
   "cell_type": "code",
   "execution_count": 161,
   "id": "3de7ab27-e007-4bb8-a859-e40920e1dc16",
   "metadata": {},
   "outputs": [
    {
     "data": {
      "text/html": [
       "<div>\n",
       "<style scoped>\n",
       "    .dataframe tbody tr th:only-of-type {\n",
       "        vertical-align: middle;\n",
       "    }\n",
       "\n",
       "    .dataframe tbody tr th {\n",
       "        vertical-align: top;\n",
       "    }\n",
       "\n",
       "    .dataframe thead th {\n",
       "        text-align: right;\n",
       "    }\n",
       "</style>\n",
       "<table border=\"1\" class=\"dataframe\">\n",
       "  <thead>\n",
       "    <tr style=\"text-align: right;\">\n",
       "      <th></th>\n",
       "      <th>No</th>\n",
       "      <th>X1 date de transaction</th>\n",
       "      <th>X2 age de la maison</th>\n",
       "      <th>X3 distance jusqu'a la gare la plus proche</th>\n",
       "      <th>X4 nombre de supermarket de proximite</th>\n",
       "      <th>X5 latitude</th>\n",
       "      <th>X6 longitude</th>\n",
       "      <th>Y prix de la maison par unite de surface</th>\n",
       "    </tr>\n",
       "  </thead>\n",
       "  <tbody>\n",
       "    <tr>\n",
       "      <th>0</th>\n",
       "      <td>1</td>\n",
       "      <td>2012.917</td>\n",
       "      <td>32.0</td>\n",
       "      <td>84.87882</td>\n",
       "      <td>10</td>\n",
       "      <td>24.98298</td>\n",
       "      <td>121.54024</td>\n",
       "      <td>37.9</td>\n",
       "    </tr>\n",
       "    <tr>\n",
       "      <th>1</th>\n",
       "      <td>2</td>\n",
       "      <td>2012.917</td>\n",
       "      <td>19.5</td>\n",
       "      <td>306.59470</td>\n",
       "      <td>9</td>\n",
       "      <td>24.98034</td>\n",
       "      <td>121.53951</td>\n",
       "      <td>42.2</td>\n",
       "    </tr>\n",
       "    <tr>\n",
       "      <th>2</th>\n",
       "      <td>3</td>\n",
       "      <td>2013.583</td>\n",
       "      <td>13.3</td>\n",
       "      <td>561.98450</td>\n",
       "      <td>5</td>\n",
       "      <td>24.98746</td>\n",
       "      <td>121.54391</td>\n",
       "      <td>47.3</td>\n",
       "    </tr>\n",
       "    <tr>\n",
       "      <th>3</th>\n",
       "      <td>4</td>\n",
       "      <td>2013.500</td>\n",
       "      <td>13.3</td>\n",
       "      <td>561.98450</td>\n",
       "      <td>5</td>\n",
       "      <td>24.98746</td>\n",
       "      <td>121.54391</td>\n",
       "      <td>54.8</td>\n",
       "    </tr>\n",
       "    <tr>\n",
       "      <th>4</th>\n",
       "      <td>5</td>\n",
       "      <td>2012.833</td>\n",
       "      <td>5.0</td>\n",
       "      <td>390.56840</td>\n",
       "      <td>5</td>\n",
       "      <td>24.97937</td>\n",
       "      <td>121.54245</td>\n",
       "      <td>43.1</td>\n",
       "    </tr>\n",
       "  </tbody>\n",
       "</table>\n",
       "</div>"
      ],
      "text/plain": [
       "   No  X1 date de transaction  X2 age de la maison  \\\n",
       "0   1                2012.917                 32.0   \n",
       "1   2                2012.917                 19.5   \n",
       "2   3                2013.583                 13.3   \n",
       "3   4                2013.500                 13.3   \n",
       "4   5                2012.833                  5.0   \n",
       "\n",
       "   X3 distance jusqu'a la gare la plus proche  \\\n",
       "0                                    84.87882   \n",
       "1                                   306.59470   \n",
       "2                                   561.98450   \n",
       "3                                   561.98450   \n",
       "4                                   390.56840   \n",
       "\n",
       "   X4 nombre de supermarket de proximite  X5 latitude  X6 longitude  \\\n",
       "0                                     10     24.98298     121.54024   \n",
       "1                                      9     24.98034     121.53951   \n",
       "2                                      5     24.98746     121.54391   \n",
       "3                                      5     24.98746     121.54391   \n",
       "4                                      5     24.97937     121.54245   \n",
       "\n",
       "   Y prix de la maison par unite de surface  \n",
       "0                                      37.9  \n",
       "1                                      42.2  \n",
       "2                                      47.3  \n",
       "3                                      54.8  \n",
       "4                                      43.1  "
      ]
     },
     "execution_count": 161,
     "metadata": {},
     "output_type": "execute_result"
    }
   ],
   "source": [
    "data.head()"
   ]
  },
  {
   "cell_type": "code",
   "execution_count": 162,
   "id": "109d6f15-f7eb-40f0-aacc-27c30317106a",
   "metadata": {},
   "outputs": [
    {
     "data": {
      "text/plain": [
       "(414, 8)"
      ]
     },
     "execution_count": 162,
     "metadata": {},
     "output_type": "execute_result"
    }
   ],
   "source": [
    "# Exploration du Dataset(Contient 30 lignes et 2 colone)\n",
    "data.shape"
   ]
  },
  {
   "cell_type": "code",
   "execution_count": 163,
   "id": "e98d22cd-d7bd-40d2-b8ea-dd51fc9a942d",
   "metadata": {},
   "outputs": [
    {
     "data": {
      "text/plain": [
       "Index(['No', 'X1 date de transaction', 'X2 age de la maison',\n",
       "       'X3 distance jusqu'a la gare la plus proche',\n",
       "       'X4 nombre de supermarket de proximite', 'X5 latitude', 'X6 longitude',\n",
       "       'Y prix de la maison par unite de surface'],\n",
       "      dtype='object')"
      ]
     },
     "execution_count": 163,
     "metadata": {},
     "output_type": "execute_result"
    }
   ],
   "source": [
    "# Les colonnes sont: -YersExperience et Salary\n",
    "data.columns"
   ]
  },
  {
   "cell_type": "code",
   "execution_count": 164,
   "id": "8413e182-5175-4037-bd81-7bd832e5db1d",
   "metadata": {},
   "outputs": [
    {
     "data": {
      "text/html": [
       "<div>\n",
       "<style scoped>\n",
       "    .dataframe tbody tr th:only-of-type {\n",
       "        vertical-align: middle;\n",
       "    }\n",
       "\n",
       "    .dataframe tbody tr th {\n",
       "        vertical-align: top;\n",
       "    }\n",
       "\n",
       "    .dataframe thead th {\n",
       "        text-align: right;\n",
       "    }\n",
       "</style>\n",
       "<table border=\"1\" class=\"dataframe\">\n",
       "  <thead>\n",
       "    <tr style=\"text-align: right;\">\n",
       "      <th></th>\n",
       "      <th>No</th>\n",
       "      <th>X1 date de transaction</th>\n",
       "      <th>X2 age de la maison</th>\n",
       "      <th>X3 distance jusqu'a la gare la plus proche</th>\n",
       "      <th>X4 nombre de supermarket de proximite</th>\n",
       "      <th>X5 latitude</th>\n",
       "      <th>X6 longitude</th>\n",
       "      <th>Y prix de la maison par unite de surface</th>\n",
       "    </tr>\n",
       "  </thead>\n",
       "  <tbody>\n",
       "    <tr>\n",
       "      <th>0</th>\n",
       "      <td>False</td>\n",
       "      <td>False</td>\n",
       "      <td>False</td>\n",
       "      <td>False</td>\n",
       "      <td>False</td>\n",
       "      <td>False</td>\n",
       "      <td>False</td>\n",
       "      <td>False</td>\n",
       "    </tr>\n",
       "    <tr>\n",
       "      <th>1</th>\n",
       "      <td>False</td>\n",
       "      <td>False</td>\n",
       "      <td>False</td>\n",
       "      <td>False</td>\n",
       "      <td>False</td>\n",
       "      <td>False</td>\n",
       "      <td>False</td>\n",
       "      <td>False</td>\n",
       "    </tr>\n",
       "    <tr>\n",
       "      <th>2</th>\n",
       "      <td>False</td>\n",
       "      <td>False</td>\n",
       "      <td>False</td>\n",
       "      <td>False</td>\n",
       "      <td>False</td>\n",
       "      <td>False</td>\n",
       "      <td>False</td>\n",
       "      <td>False</td>\n",
       "    </tr>\n",
       "    <tr>\n",
       "      <th>3</th>\n",
       "      <td>False</td>\n",
       "      <td>False</td>\n",
       "      <td>False</td>\n",
       "      <td>False</td>\n",
       "      <td>False</td>\n",
       "      <td>False</td>\n",
       "      <td>False</td>\n",
       "      <td>False</td>\n",
       "    </tr>\n",
       "    <tr>\n",
       "      <th>4</th>\n",
       "      <td>False</td>\n",
       "      <td>False</td>\n",
       "      <td>False</td>\n",
       "      <td>False</td>\n",
       "      <td>False</td>\n",
       "      <td>False</td>\n",
       "      <td>False</td>\n",
       "      <td>False</td>\n",
       "    </tr>\n",
       "    <tr>\n",
       "      <th>...</th>\n",
       "      <td>...</td>\n",
       "      <td>...</td>\n",
       "      <td>...</td>\n",
       "      <td>...</td>\n",
       "      <td>...</td>\n",
       "      <td>...</td>\n",
       "      <td>...</td>\n",
       "      <td>...</td>\n",
       "    </tr>\n",
       "    <tr>\n",
       "      <th>409</th>\n",
       "      <td>False</td>\n",
       "      <td>False</td>\n",
       "      <td>False</td>\n",
       "      <td>False</td>\n",
       "      <td>False</td>\n",
       "      <td>False</td>\n",
       "      <td>False</td>\n",
       "      <td>False</td>\n",
       "    </tr>\n",
       "    <tr>\n",
       "      <th>410</th>\n",
       "      <td>False</td>\n",
       "      <td>False</td>\n",
       "      <td>False</td>\n",
       "      <td>False</td>\n",
       "      <td>False</td>\n",
       "      <td>False</td>\n",
       "      <td>False</td>\n",
       "      <td>False</td>\n",
       "    </tr>\n",
       "    <tr>\n",
       "      <th>411</th>\n",
       "      <td>False</td>\n",
       "      <td>False</td>\n",
       "      <td>False</td>\n",
       "      <td>False</td>\n",
       "      <td>False</td>\n",
       "      <td>False</td>\n",
       "      <td>False</td>\n",
       "      <td>False</td>\n",
       "    </tr>\n",
       "    <tr>\n",
       "      <th>412</th>\n",
       "      <td>False</td>\n",
       "      <td>False</td>\n",
       "      <td>False</td>\n",
       "      <td>False</td>\n",
       "      <td>False</td>\n",
       "      <td>False</td>\n",
       "      <td>False</td>\n",
       "      <td>False</td>\n",
       "    </tr>\n",
       "    <tr>\n",
       "      <th>413</th>\n",
       "      <td>False</td>\n",
       "      <td>False</td>\n",
       "      <td>False</td>\n",
       "      <td>False</td>\n",
       "      <td>False</td>\n",
       "      <td>False</td>\n",
       "      <td>False</td>\n",
       "      <td>False</td>\n",
       "    </tr>\n",
       "  </tbody>\n",
       "</table>\n",
       "<p>414 rows × 8 columns</p>\n",
       "</div>"
      ],
      "text/plain": [
       "        No  X1 date de transaction  X2 age de la maison  \\\n",
       "0    False                   False                False   \n",
       "1    False                   False                False   \n",
       "2    False                   False                False   \n",
       "3    False                   False                False   \n",
       "4    False                   False                False   \n",
       "..     ...                     ...                  ...   \n",
       "409  False                   False                False   \n",
       "410  False                   False                False   \n",
       "411  False                   False                False   \n",
       "412  False                   False                False   \n",
       "413  False                   False                False   \n",
       "\n",
       "     X3 distance jusqu'a la gare la plus proche  \\\n",
       "0                                         False   \n",
       "1                                         False   \n",
       "2                                         False   \n",
       "3                                         False   \n",
       "4                                         False   \n",
       "..                                          ...   \n",
       "409                                       False   \n",
       "410                                       False   \n",
       "411                                       False   \n",
       "412                                       False   \n",
       "413                                       False   \n",
       "\n",
       "     X4 nombre de supermarket de proximite  X5 latitude  X6 longitude  \\\n",
       "0                                    False        False         False   \n",
       "1                                    False        False         False   \n",
       "2                                    False        False         False   \n",
       "3                                    False        False         False   \n",
       "4                                    False        False         False   \n",
       "..                                     ...          ...           ...   \n",
       "409                                  False        False         False   \n",
       "410                                  False        False         False   \n",
       "411                                  False        False         False   \n",
       "412                                  False        False         False   \n",
       "413                                  False        False         False   \n",
       "\n",
       "     Y prix de la maison par unite de surface  \n",
       "0                                       False  \n",
       "1                                       False  \n",
       "2                                       False  \n",
       "3                                       False  \n",
       "4                                       False  \n",
       "..                                        ...  \n",
       "409                                     False  \n",
       "410                                     False  \n",
       "411                                     False  \n",
       "412                                     False  \n",
       "413                                     False  \n",
       "\n",
       "[414 rows x 8 columns]"
      ]
     },
     "execution_count": 164,
     "metadata": {},
     "output_type": "execute_result"
    }
   ],
   "source": [
    "# Ce résultat montre que le Dataset n'a aucune ligne vide\n",
    "data.isnull()"
   ]
  },
  {
   "cell_type": "code",
   "execution_count": 165,
   "id": "c83cb852-2a86-48d7-96f6-124e22b7605a",
   "metadata": {},
   "outputs": [
    {
     "data": {
      "text/html": [
       "<div>\n",
       "<style scoped>\n",
       "    .dataframe tbody tr th:only-of-type {\n",
       "        vertical-align: middle;\n",
       "    }\n",
       "\n",
       "    .dataframe tbody tr th {\n",
       "        vertical-align: top;\n",
       "    }\n",
       "\n",
       "    .dataframe thead th {\n",
       "        text-align: right;\n",
       "    }\n",
       "</style>\n",
       "<table border=\"1\" class=\"dataframe\">\n",
       "  <thead>\n",
       "    <tr style=\"text-align: right;\">\n",
       "      <th></th>\n",
       "      <th>No</th>\n",
       "      <th>X1 date de transaction</th>\n",
       "      <th>X2 age de la maison</th>\n",
       "      <th>X3 distance jusqu'a la gare la plus proche</th>\n",
       "      <th>X4 nombre de supermarket de proximite</th>\n",
       "      <th>X5 latitude</th>\n",
       "      <th>X6 longitude</th>\n",
       "      <th>Y prix de la maison par unite de surface</th>\n",
       "    </tr>\n",
       "  </thead>\n",
       "  <tbody>\n",
       "    <tr>\n",
       "      <th>count</th>\n",
       "      <td>414.000000</td>\n",
       "      <td>414.000000</td>\n",
       "      <td>414.000000</td>\n",
       "      <td>414.000000</td>\n",
       "      <td>414.000000</td>\n",
       "      <td>414.000000</td>\n",
       "      <td>414.000000</td>\n",
       "      <td>414.000000</td>\n",
       "    </tr>\n",
       "    <tr>\n",
       "      <th>mean</th>\n",
       "      <td>207.500000</td>\n",
       "      <td>2013.148971</td>\n",
       "      <td>17.712560</td>\n",
       "      <td>1083.885689</td>\n",
       "      <td>4.094203</td>\n",
       "      <td>24.969030</td>\n",
       "      <td>121.533361</td>\n",
       "      <td>37.980193</td>\n",
       "    </tr>\n",
       "    <tr>\n",
       "      <th>std</th>\n",
       "      <td>119.655756</td>\n",
       "      <td>0.281967</td>\n",
       "      <td>11.392485</td>\n",
       "      <td>1262.109595</td>\n",
       "      <td>2.945562</td>\n",
       "      <td>0.012410</td>\n",
       "      <td>0.015347</td>\n",
       "      <td>13.606488</td>\n",
       "    </tr>\n",
       "    <tr>\n",
       "      <th>min</th>\n",
       "      <td>1.000000</td>\n",
       "      <td>2012.667000</td>\n",
       "      <td>0.000000</td>\n",
       "      <td>23.382840</td>\n",
       "      <td>0.000000</td>\n",
       "      <td>24.932070</td>\n",
       "      <td>121.473530</td>\n",
       "      <td>7.600000</td>\n",
       "    </tr>\n",
       "    <tr>\n",
       "      <th>25%</th>\n",
       "      <td>104.250000</td>\n",
       "      <td>2012.917000</td>\n",
       "      <td>9.025000</td>\n",
       "      <td>289.324800</td>\n",
       "      <td>1.000000</td>\n",
       "      <td>24.963000</td>\n",
       "      <td>121.528085</td>\n",
       "      <td>27.700000</td>\n",
       "    </tr>\n",
       "    <tr>\n",
       "      <th>50%</th>\n",
       "      <td>207.500000</td>\n",
       "      <td>2013.167000</td>\n",
       "      <td>16.100000</td>\n",
       "      <td>492.231300</td>\n",
       "      <td>4.000000</td>\n",
       "      <td>24.971100</td>\n",
       "      <td>121.538630</td>\n",
       "      <td>38.450000</td>\n",
       "    </tr>\n",
       "    <tr>\n",
       "      <th>75%</th>\n",
       "      <td>310.750000</td>\n",
       "      <td>2013.417000</td>\n",
       "      <td>28.150000</td>\n",
       "      <td>1454.279000</td>\n",
       "      <td>6.000000</td>\n",
       "      <td>24.977455</td>\n",
       "      <td>121.543305</td>\n",
       "      <td>46.600000</td>\n",
       "    </tr>\n",
       "    <tr>\n",
       "      <th>max</th>\n",
       "      <td>414.000000</td>\n",
       "      <td>2013.583000</td>\n",
       "      <td>43.800000</td>\n",
       "      <td>6488.021000</td>\n",
       "      <td>10.000000</td>\n",
       "      <td>25.014590</td>\n",
       "      <td>121.566270</td>\n",
       "      <td>117.500000</td>\n",
       "    </tr>\n",
       "  </tbody>\n",
       "</table>\n",
       "</div>"
      ],
      "text/plain": [
       "               No  X1 date de transaction  X2 age de la maison  \\\n",
       "count  414.000000              414.000000           414.000000   \n",
       "mean   207.500000             2013.148971            17.712560   \n",
       "std    119.655756                0.281967            11.392485   \n",
       "min      1.000000             2012.667000             0.000000   \n",
       "25%    104.250000             2012.917000             9.025000   \n",
       "50%    207.500000             2013.167000            16.100000   \n",
       "75%    310.750000             2013.417000            28.150000   \n",
       "max    414.000000             2013.583000            43.800000   \n",
       "\n",
       "       X3 distance jusqu'a la gare la plus proche  \\\n",
       "count                                  414.000000   \n",
       "mean                                  1083.885689   \n",
       "std                                   1262.109595   \n",
       "min                                     23.382840   \n",
       "25%                                    289.324800   \n",
       "50%                                    492.231300   \n",
       "75%                                   1454.279000   \n",
       "max                                   6488.021000   \n",
       "\n",
       "       X4 nombre de supermarket de proximite  X5 latitude  X6 longitude  \\\n",
       "count                             414.000000   414.000000    414.000000   \n",
       "mean                                4.094203    24.969030    121.533361   \n",
       "std                                 2.945562     0.012410      0.015347   \n",
       "min                                 0.000000    24.932070    121.473530   \n",
       "25%                                 1.000000    24.963000    121.528085   \n",
       "50%                                 4.000000    24.971100    121.538630   \n",
       "75%                                 6.000000    24.977455    121.543305   \n",
       "max                                10.000000    25.014590    121.566270   \n",
       "\n",
       "       Y prix de la maison par unite de surface  \n",
       "count                                414.000000  \n",
       "mean                                  37.980193  \n",
       "std                                   13.606488  \n",
       "min                                    7.600000  \n",
       "25%                                   27.700000  \n",
       "50%                                   38.450000  \n",
       "75%                                   46.600000  \n",
       "max                                  117.500000  "
      ]
     },
     "execution_count": 165,
     "metadata": {},
     "output_type": "execute_result"
    }
   ],
   "source": [
    "data.describe()"
   ]
  },
  {
   "cell_type": "code",
   "execution_count": 166,
   "id": "5bce72f7-23bf-4b8e-a1a9-7892f61692d8",
   "metadata": {},
   "outputs": [],
   "source": [
    "x = data.iloc[:, :-1].values\n",
    "y = data.iloc[:, -1].values"
   ]
  },
  {
   "cell_type": "markdown",
   "id": "df4eb175-913f-416a-8846-a33f06ea3fd0",
   "metadata": {},
   "source": [
    "# III.2. Separation de données : Training Data et Test Data"
   ]
  },
  {
   "cell_type": "code",
   "execution_count": 167,
   "id": "31050c9d-5637-471e-9527-5b4d174d3330",
   "metadata": {},
   "outputs": [],
   "source": [
    "# Pour catégoriser les données en données de d'entrainement et données de test\n",
    "from sklearn.model_selection import train_test_split"
   ]
  },
  {
   "cell_type": "code",
   "execution_count": 168,
   "id": "d191f209-705a-4979-bd88-18cc5654e788",
   "metadata": {},
   "outputs": [],
   "source": [
    "#x_train, x_test, y_train, y_test\n",
    "x_train, x_test, y_train, y_test = train_test_split(x, y,  test_size=0.2, random_state=30)\n"
   ]
  },
  {
   "cell_type": "code",
   "execution_count": 169,
   "id": "62766b87-b7be-451e-a3db-d604b00205b2",
   "metadata": {},
   "outputs": [
    {
     "name": "stdout",
     "output_type": "stream",
     "text": [
      "x train: (331, 7)\n",
      "y train: (331,)\n"
     ]
    }
   ],
   "source": [
    "# Affichage de dimension pour les données d'entrainement\n",
    "print(\"x train:\", x_train.shape)\n",
    "print(\"y train:\", y_train.shape)"
   ]
  },
  {
   "cell_type": "code",
   "execution_count": 170,
   "id": "2a489ad6-a5c2-4cb3-ae39-c60a5cc00eb4",
   "metadata": {},
   "outputs": [
    {
     "name": "stdout",
     "output_type": "stream",
     "text": [
      "x test: (83, 7)\n",
      "y test: (83,)\n"
     ]
    }
   ],
   "source": [
    "# Affichage de dimension pour les données de test\n",
    "print(\"x test:\", x_test.shape)\n",
    "print(\"y test:\", y_test.shape)"
   ]
  },
  {
   "cell_type": "markdown",
   "id": "4112a5e3-635a-4585-bd37-75dcf96daa40",
   "metadata": {},
   "source": [
    "# III.3. Création du modèle"
   ]
  },
  {
   "cell_type": "code",
   "execution_count": 171,
   "id": "fcec4c10-65f6-4259-af0d-3a44ec14a108",
   "metadata": {},
   "outputs": [],
   "source": [
    "# Appel au modèle de Regression linéaire\n",
    "from sklearn.linear_model import LinearRegression"
   ]
  },
  {
   "cell_type": "code",
   "execution_count": 172,
   "id": "b1ab9416-75e7-47e8-aff5-08c6dab568fe",
   "metadata": {},
   "outputs": [],
   "source": [
    "# Création du modèle\n",
    "modele_Multilple = LinearRegression()"
   ]
  },
  {
   "cell_type": "code",
   "execution_count": 173,
   "id": "d7d941f2-5664-417b-aee7-1f19a9964bf8",
   "metadata": {},
   "outputs": [
    {
     "data": {
      "text/html": [
       "<style>#sk-container-id-8 {color: black;background-color: white;}#sk-container-id-8 pre{padding: 0;}#sk-container-id-8 div.sk-toggleable {background-color: white;}#sk-container-id-8 label.sk-toggleable__label {cursor: pointer;display: block;width: 100%;margin-bottom: 0;padding: 0.3em;box-sizing: border-box;text-align: center;}#sk-container-id-8 label.sk-toggleable__label-arrow:before {content: \"▸\";float: left;margin-right: 0.25em;color: #696969;}#sk-container-id-8 label.sk-toggleable__label-arrow:hover:before {color: black;}#sk-container-id-8 div.sk-estimator:hover label.sk-toggleable__label-arrow:before {color: black;}#sk-container-id-8 div.sk-toggleable__content {max-height: 0;max-width: 0;overflow: hidden;text-align: left;background-color: #f0f8ff;}#sk-container-id-8 div.sk-toggleable__content pre {margin: 0.2em;color: black;border-radius: 0.25em;background-color: #f0f8ff;}#sk-container-id-8 input.sk-toggleable__control:checked~div.sk-toggleable__content {max-height: 200px;max-width: 100%;overflow: auto;}#sk-container-id-8 input.sk-toggleable__control:checked~label.sk-toggleable__label-arrow:before {content: \"▾\";}#sk-container-id-8 div.sk-estimator input.sk-toggleable__control:checked~label.sk-toggleable__label {background-color: #d4ebff;}#sk-container-id-8 div.sk-label input.sk-toggleable__control:checked~label.sk-toggleable__label {background-color: #d4ebff;}#sk-container-id-8 input.sk-hidden--visually {border: 0;clip: rect(1px 1px 1px 1px);clip: rect(1px, 1px, 1px, 1px);height: 1px;margin: -1px;overflow: hidden;padding: 0;position: absolute;width: 1px;}#sk-container-id-8 div.sk-estimator {font-family: monospace;background-color: #f0f8ff;border: 1px dotted black;border-radius: 0.25em;box-sizing: border-box;margin-bottom: 0.5em;}#sk-container-id-8 div.sk-estimator:hover {background-color: #d4ebff;}#sk-container-id-8 div.sk-parallel-item::after {content: \"\";width: 100%;border-bottom: 1px solid gray;flex-grow: 1;}#sk-container-id-8 div.sk-label:hover label.sk-toggleable__label {background-color: #d4ebff;}#sk-container-id-8 div.sk-serial::before {content: \"\";position: absolute;border-left: 1px solid gray;box-sizing: border-box;top: 0;bottom: 0;left: 50%;z-index: 0;}#sk-container-id-8 div.sk-serial {display: flex;flex-direction: column;align-items: center;background-color: white;padding-right: 0.2em;padding-left: 0.2em;position: relative;}#sk-container-id-8 div.sk-item {position: relative;z-index: 1;}#sk-container-id-8 div.sk-parallel {display: flex;align-items: stretch;justify-content: center;background-color: white;position: relative;}#sk-container-id-8 div.sk-item::before, #sk-container-id-8 div.sk-parallel-item::before {content: \"\";position: absolute;border-left: 1px solid gray;box-sizing: border-box;top: 0;bottom: 0;left: 50%;z-index: -1;}#sk-container-id-8 div.sk-parallel-item {display: flex;flex-direction: column;z-index: 1;position: relative;background-color: white;}#sk-container-id-8 div.sk-parallel-item:first-child::after {align-self: flex-end;width: 50%;}#sk-container-id-8 div.sk-parallel-item:last-child::after {align-self: flex-start;width: 50%;}#sk-container-id-8 div.sk-parallel-item:only-child::after {width: 0;}#sk-container-id-8 div.sk-dashed-wrapped {border: 1px dashed gray;margin: 0 0.4em 0.5em 0.4em;box-sizing: border-box;padding-bottom: 0.4em;background-color: white;}#sk-container-id-8 div.sk-label label {font-family: monospace;font-weight: bold;display: inline-block;line-height: 1.2em;}#sk-container-id-8 div.sk-label-container {text-align: center;}#sk-container-id-8 div.sk-container {/* jupyter's `normalize.less` sets `[hidden] { display: none; }` but bootstrap.min.css set `[hidden] { display: none !important; }` so we also need the `!important` here to be able to override the default hidden behavior on the sphinx rendered scikit-learn.org. See: https://github.com/scikit-learn/scikit-learn/issues/21755 */display: inline-block !important;position: relative;}#sk-container-id-8 div.sk-text-repr-fallback {display: none;}</style><div id=\"sk-container-id-8\" class=\"sk-top-container\"><div class=\"sk-text-repr-fallback\"><pre>LinearRegression()</pre><b>In a Jupyter environment, please rerun this cell to show the HTML representation or trust the notebook. <br />On GitHub, the HTML representation is unable to render, please try loading this page with nbviewer.org.</b></div><div class=\"sk-container\" hidden><div class=\"sk-item\"><div class=\"sk-estimator sk-toggleable\"><input class=\"sk-toggleable__control sk-hidden--visually\" id=\"sk-estimator-id-8\" type=\"checkbox\" checked><label for=\"sk-estimator-id-8\" class=\"sk-toggleable__label sk-toggleable__label-arrow\">LinearRegression</label><div class=\"sk-toggleable__content\"><pre>LinearRegression()</pre></div></div></div></div></div>"
      ],
      "text/plain": [
       "LinearRegression()"
      ]
     },
     "execution_count": 173,
     "metadata": {},
     "output_type": "execute_result"
    }
   ],
   "source": [
    "# Entrainement du modèle\n",
    "modele_Multilple.fit(x_train, y_train)"
   ]
  },
  {
   "cell_type": "code",
   "execution_count": 174,
   "id": "bf82cd19-9693-442e-a628-ca652e2e7fa7",
   "metadata": {},
   "outputs": [
    {
     "data": {
      "text/plain": [
       "array([33.97389466, 41.7214541 , 14.80643721, 42.36615035, 33.40258744,\n",
       "       28.99981423, 38.70638888, 16.38115933, 44.25027257, 42.71295609,\n",
       "       37.72570931, 43.21125296, 45.48919408, 42.50189801, 39.79528076,\n",
       "       47.58523158, 43.0110396 , 44.9097467 , 46.93502065, 28.66823959,\n",
       "       48.00274186, 29.64366962, 38.24199991, 48.46585091, 33.68215249,\n",
       "       29.48511949, 42.823265  , 41.87837512, 42.12703259, 42.85540916,\n",
       "       52.78235794, 48.18370369, 36.83040487, 34.45579034, 33.86066497,\n",
       "       47.62687243, 32.30983531, 34.05183345, 35.19100801, 49.78177443,\n",
       "       40.13212149, 45.11929572, 51.54883533, 45.66937114, 47.34615933,\n",
       "       42.22002736, 37.13726567, 51.32980011, 47.22656436, 39.24118518,\n",
       "       46.61385073, 37.23007283, 36.58714737, 44.95845975, 45.82108719,\n",
       "       42.77355905, 53.45056903, 38.60490833, 41.22508586, 48.64889284,\n",
       "       32.1350321 , 44.17014755, 51.05389153, 24.56183792, 53.92349001,\n",
       "       47.08787507, 17.16534479, 40.5126958 , 37.89200004, 37.54631163,\n",
       "       35.14728776, 36.20707403, 28.5677967 , 30.20337698, 41.1501354 ,\n",
       "       39.24734483, 45.36103039, 40.94173302, 36.14184493, 51.64336967,\n",
       "       12.88784433, 13.14800452, 46.02596849])"
      ]
     },
     "execution_count": 174,
     "metadata": {},
     "output_type": "execute_result"
    }
   ],
   "source": [
    "# La prediction se fait sur les données de test\n",
    "modele_Multilple.predict(x_test)"
   ]
  },
  {
   "cell_type": "markdown",
   "id": "1e93a4a5-82f8-4f16-8938-4086d27e3659",
   "metadata": {},
   "source": [
    "# III.3.1. Evaluation du modèle"
   ]
  },
  {
   "cell_type": "code",
   "execution_count": 175,
   "id": "e95a873d-1d14-4b12-9f7f-c46fe4f267fc",
   "metadata": {},
   "outputs": [],
   "source": [
    "# Importation des bibliothèques et metrics d'évaluation du modèle\n",
    "from sklearn.metrics import mean_squared_error, r2_score"
   ]
  },
  {
   "cell_type": "code",
   "execution_count": 176,
   "id": "9d9b7b8e-7848-48f6-afbf-c5cc629c6cb7",
   "metadata": {},
   "outputs": [],
   "source": [
    "y_predicted_1r = modele_Multilple.predict(x_test)"
   ]
  },
  {
   "cell_type": "code",
   "execution_count": 177,
   "id": "85bc5e9e-541b-4d2d-9356-4c2a2dfb87ee",
   "metadata": {},
   "outputs": [
    {
     "data": {
      "text/plain": [
       "98.1584018415354"
      ]
     },
     "execution_count": 177,
     "metadata": {},
     "output_type": "execute_result"
    }
   ],
   "source": [
    "mean_squared_error(y_test, y_predicted_1r)"
   ]
  },
  {
   "cell_type": "code",
   "execution_count": 178,
   "id": "aab47f99-e190-47e6-bc47-21f68115363a",
   "metadata": {},
   "outputs": [
    {
     "data": {
      "text/plain": [
       "0.4617082740678702"
      ]
     },
     "execution_count": 178,
     "metadata": {},
     "output_type": "execute_result"
    }
   ],
   "source": [
    "r2_score(y_test, y_predicted_1r)"
   ]
  }
 ],
 "metadata": {
  "kernelspec": {
   "display_name": "Python 3 (ipykernel)",
   "language": "python",
   "name": "python3"
  },
  "language_info": {
   "codemirror_mode": {
    "name": "ipython",
    "version": 3
   },
   "file_extension": ".py",
   "mimetype": "text/x-python",
   "name": "python",
   "nbconvert_exporter": "python",
   "pygments_lexer": "ipython3",
   "version": "3.11.7"
  }
 },
 "nbformat": 4,
 "nbformat_minor": 5
}
